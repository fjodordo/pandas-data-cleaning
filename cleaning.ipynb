{
 "cells": [
  {
   "cell_type": "markdown",
   "id": "605403db",
   "metadata": {},
   "source": [
    "# Bank Marketing Data preparation & Data cleaning\n",
    "Цель проекта провести предварительную очистку банковских маркетинговых данных, подготовить для моделей/анализа.\n",
    "\n",
    "**Источник данных:** [Bank Marketing](https://archive.ics.uci.edu/dataset/222/bank+marketing)"
   ]
  },
  {
   "cell_type": "markdown",
   "id": "4cd90327",
   "metadata": {},
   "source": [
    "### 1.    Загрузка и предварительный обзор данных\n",
    "\n",
    "- Чтение .csv, просмотр формата, типов данных"
   ]
  },
  {
   "cell_type": "code",
   "execution_count": null,
   "id": "1320f99b",
   "metadata": {},
   "outputs": [],
   "source": [
    "import pandas as pd\n",
    "import numpy as np"
   ]
  },
  {
   "cell_type": "code",
   "execution_count": null,
   "id": "63ddc609",
   "metadata": {},
   "outputs": [],
   "source": [
    "df = pd.read_csv('data/bank-full.csv', sep=';')\n",
    "df.head()"
   ]
  },
  {
   "cell_type": "code",
   "execution_count": null,
   "id": "578fe925",
   "metadata": {},
   "outputs": [],
   "source": [
    "df.info()"
   ]
  },
  {
   "cell_type": "markdown",
   "id": "fa509c30",
   "metadata": {},
   "source": [
    "\n",
    "- Оценка размера, уникальности, первичного распределения"
   ]
  },
  {
   "cell_type": "code",
   "execution_count": null,
   "id": "ee218d2b",
   "metadata": {},
   "outputs": [],
   "source": [
    "# Data size\n",
    "# Number of rows and columns\n",
    "df.shape"
   ]
  },
  {
   "cell_type": "code",
   "execution_count": null,
   "id": "63c5c6b0",
   "metadata": {},
   "outputs": [],
   "source": [
    "# For numeric fields\n",
    "# distribution before processing\n",
    "df.describe(include=['int'])"
   ]
  },
  {
   "cell_type": "code",
   "execution_count": null,
   "id": "5a927366",
   "metadata": {},
   "outputs": [],
   "source": [
    "# For categorical and binary fields\n",
    "# distribution before processing\n",
    "\n",
    "# Unique values for categorical fields\n",
    "categorial_columns = ['job', 'marital', 'education', 'contact']\n",
    "binary_columns = ['default', 'housing', 'loan']\n",
    "categorial_columns\n",
    "for col in categorial_columns:\n",
    "    print(f\"Категориальных значений для {col}: {df[col].nunique()}\")\n",
    "    print(f\"Их количество:\\n{df[col].value_counts()}\\n\")\n",
    "for col in binary_columns:\n",
    "    print(f\"Соотношение для {col}:\\n{df[col].value_counts()}\\n\")"
   ]
  },
  {
   "cell_type": "markdown",
   "id": "163bb66e",
   "metadata": {},
   "source": [
    "### 2. Обнаружение и устранение \"грязных\" данных"
   ]
  },
  {
   "cell_type": "code",
   "execution_count": null,
   "id": "95ac1b13",
   "metadata": {},
   "outputs": [],
   "source": []
  }
 ],
 "metadata": {
  "kernelspec": {
   "display_name": "data_analysis",
   "language": "python",
   "name": "python3"
  },
  "language_info": {
   "codemirror_mode": {
    "name": "ipython",
    "version": 3
   },
   "file_extension": ".py",
   "mimetype": "text/x-python",
   "name": "python",
   "nbconvert_exporter": "python",
   "pygments_lexer": "ipython3",
   "version": "3.10.17"
  }
 },
 "nbformat": 4,
 "nbformat_minor": 5
}
